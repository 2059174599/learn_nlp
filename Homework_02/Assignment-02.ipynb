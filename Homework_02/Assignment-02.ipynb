{
 "cells": [
  {
   "cell_type": "markdown",
   "metadata": {},
   "source": [
    "## Assignments for Week-02"
   ]
  },
  {
   "cell_type": "markdown",
   "metadata": {},
   "source": [
    "In this course, we learnt what's the search problem and what's the machine leanring. In this assignment, we need you do some more practice."
   ]
  },
  {
   "cell_type": "markdown",
   "metadata": {},
   "source": [
    "### 1. Re-code the house price machine learning\n",
    "\n",
    "###### 1. Random Choose Method to get optimal *k* and *b*\n",
    "###### 2.Supervised Direction to get optimal *k* and *b*\n",
    "###### 3.Gradient Descent to get optimal *k* and *b*\n",
    "###### 4. Try different Loss function and learning rate. \n",
    "\n",
    "For example, you can change the loss function: $Loss = \\frac{1}{n} sum({y_i - \\hat{y_i}})^2$ to $Loss = \\frac{1}{n} sum(|{y_i - \\hat{y_i}}|)$\n",
    "\n",
    "And you can change the learning rate and observe the performance."
   ]
  },
  {
   "cell_type": "markdown",
   "metadata": {},
   "source": [
    "![](https://timgsa.baidu.com/timg?image&quality=80&size=b9999_10000&sec=1562414412237&di=8377c38d7b50c6f8d45b92ccc78dc1e7&imgtype=0&src=http%3A%2F%2Fmmbiz.qpic.cn%2Fmmbiz_jpg%2FlSyiavfm6wPgQDuDYa42IMgSkLOcPJU91RbkMibGy7VHLrhhNVLibTYk1iaLcmXKTdHc4icTDVia59QFXwqpW8cLflaw%2F640%3Fwx_fmt%3Djpeg)"
   ]
  },
  {
   "cell_type": "markdown",
   "metadata": {},
   "source": [
    "## 2. Answer following questions:\n",
    "\n",
    "\n",
    "###### 1. Why do we need machine learning methods instead of creating a complicated formula?\n"
   ]
  },
  {
   "cell_type": "markdown",
   "metadata": {},
   "source": [
    "Ans: creating a complicated formula too difficult"
   ]
  },
  {
   "cell_type": "markdown",
   "metadata": {},
   "source": [
    "###### 2.  Wha't's the disadvantages of `the 1st Random Choosen` methods in our course? "
   ]
  },
  {
   "cell_type": "markdown",
   "metadata": {},
   "source": [
    "Ans:"
   ]
  },
  {
   "cell_type": "markdown",
   "metadata": {},
   "source": [
    "###### 3. Is the `2nd method supervised direction` better than 1st one?  What's the disadvantages of `the 2nd supversied directin` method? "
   ]
  },
  {
   "cell_type": "markdown",
   "metadata": {},
   "source": [
    "Ans:"
   ]
  },
  {
   "cell_type": "markdown",
   "metadata": {},
   "source": [
    "###### 4. Why do we use `Derivative / Gredient` to fit a target function? "
   ]
  },
  {
   "cell_type": "markdown",
   "metadata": {},
   "source": [
    "Ans:"
   ]
  },
  {
   "cell_type": "markdown",
   "metadata": {},
   "source": [
    "###### 5. In the words 'Gredient Descent', what's the `Gredient` and what's the `Descent`?"
   ]
  },
  {
   "cell_type": "markdown",
   "metadata": {},
   "source": [
    "Ans:"
   ]
  },
  {
   "cell_type": "markdown",
   "metadata": {},
   "source": [
    "###### 6. What's the advantages of `the 3rd gradient descent method` compared to the previous methods?"
   ]
  },
  {
   "cell_type": "markdown",
   "metadata": {},
   "source": [
    "Ans:"
   ]
  },
  {
   "cell_type": "markdown",
   "metadata": {},
   "source": [
    "###### 7. Using the simple words to describe: What's the machine leanring."
   ]
  },
  {
   "cell_type": "markdown",
   "metadata": {},
   "source": [
    "Ans:"
   ]
  },
  {
   "cell_type": "markdown",
   "metadata": {},
   "source": [
    "## 3. Finish the search problem"
   ]
  },
  {
   "cell_type": "markdown",
   "metadata": {},
   "source": [
    "Please using the search policy to implement an agent. This agent receives two input, one is @param start station and the other is @param destination. Your agent should give the optimal route based on Beijing Subway system. "
   ]
  },
  {
   "cell_type": "markdown",
   "metadata": {},
   "source": [
    "> Deadline: 2019-July-13\n",
    "\n",
    ">Submit: Submit the source code and result to github. \n",
    "\n"
   ]
  },
  {
   "cell_type": "markdown",
   "metadata": {},
   "source": [
    "![](https://timgsa.baidu.com/timg?image&quality=80&size=b9999_10000&sec=1562414356407&di=b57814aafd215bb8b8d9d8cd37c573d6&imgtype=0&src=http%3A%2F%2Fcli.clewm.net%2Ffile%2F2015%2F03%2F24%2F174ed60082b8422ac0636cfd3efb9e7f.jpg)"
   ]
  },
  {
   "cell_type": "markdown",
   "metadata": {},
   "source": [
    "#### Dataflow: "
   ]
  },
  {
   "cell_type": "markdown",
   "metadata": {},
   "source": [
    "##### 1.\tGet data from web page.\n",
    "\n",
    "> a.\tGet web page source from: https://baike.baidu.com/item/%E5%8C%97%E4%BA%AC%E5%9C%B0%E9%93%81/408485\n",
    "\n",
    "> b.\tYou may need @package **requests**[https://2.python-requests.org/en/master/] page to get the response via url\n",
    "\n",
    "> c.\tYou may need save the page source to file system.\n",
    "\n",
    "> d.\tThe target of this step is to get station information of all the subway lines;\n",
    "\n",
    "> e.\tYou may need install @package beautiful soup[https://www.crummy.com/software/BeautifulSoup/bs4/doc/]  to get the url information, or just use > Regular Expression to get the url.  Our recommendation is that using the Regular Expression and BeautiflSoup both. \n",
    "\n",
    "> f.\tYou may need BFS to get all the related page url from one url. \n",
    "Question: Why do we use BFS to traverse web page (or someone said, build a web spider)?  Can DFS do this job? which is better? "
   ]
  },
  {
   "cell_type": "markdown",
   "metadata": {},
   "source": [
    "##### 2.\tPreprocessing data from page source.\n",
    "\n",
    "> a.\tBased on the page source gotten from url. You may need some more preprocessing of the page. \n",
    "\n",
    "> b.\tthe Regular Expression you may need to process the text information.\n",
    "\n",
    "> c.\tYou may need @package networkx, @package matplotlib to visualize data. \n",
    "\n",
    "> d.\tYou should build a dictionary or graph which could represent the connection information of Beijing subway routes. \n",
    "\n",
    "> e.\tYou may need the defaultdict, set data structures to implement this procedure. "
   ]
  },
  {
   "cell_type": "markdown",
   "metadata": {},
   "source": [
    "##### 3. Build the search agent\n",
    "\n",
    "> Build the search agent based on the graph we build.\n",
    "\n",
    "for example, when you run: \n",
    "\n",
    "```python\n",
    ">>> search('奥体中心', '天安门') \n",
    "```\n",
    "you need get the result: \n",
    "\n",
    "奥体中心-> A -> B -> C -> ... -> 天安门\n",
    "\n"
   ]
  },
  {
   "cell_type": "code",
   "execution_count": 31,
   "metadata": {},
   "outputs": [
    {
     "name": "stderr",
     "output_type": "stream",
     "text": [
      "E:\\program\\Anaconda3\\lib\\site-packages\\urllib3\\connectionpool.py:847: InsecureRequestWarning: Unverified HTTPS request is being made. Adding certificate verification is strongly advised. See: https://urllib3.readthedocs.io/en/latest/advanced-usage.html#ssl-warnings\n",
      "  InsecureRequestWarning)\n"
     ]
    },
    {
     "name": "stdout",
     "output_type": "stream",
     "text": [
      "{'苹果园': ['古城', '杨庄'], '古城': ['八角游乐园'], '八角游乐园': ['八宝山'], '八宝山': ['玉泉路'], '玉泉路': ['五棵松'], '五棵松': ['万寿路'], '万寿路': ['公主坟'], '公主坟': ['军事博物馆', '西钓鱼台'], '军事博物馆': ['木樨地', '白堆子'], '木樨地': ['南礼士路'], '南礼士路': ['复兴门'], '复兴门': ['西单', '阜成门'], '西单': ['天安门西', '宣武门'], '天安门西': ['天安门东'], '天安门东': ['王府井'], '王府井': ['东单'], '东单': ['建国门', '灯市口'], '建国门': ['永安里', '北京站'], '永安里': ['国贸'], '国贸': ['大望路', '双井'], '大望路': ['四惠', '朝阳公园'], '四惠': ['四惠东', '四惠东'], '四惠东': ['2号线', '高碑店'], '西直门': ['积水潭', '新街口', '大钟寺'], '积水潭': ['鼓楼大街'], '鼓楼大街': ['安定门', '什刹海'], '安定门': ['雍和宫'], '雍和宫': ['东直门', '和平里北街'], '东直门': ['东四十条', '14号线', '三元桥'], '东四十条': ['朝阳门'], '朝阳门': ['建国门', '东大桥'], '北京站': ['崇文门'], '崇文门': ['前门', '东单'], '前门': ['和平门'], '和平门': ['宣武门'], '宣武门': ['长椿街', '菜市口'], '长椿街': ['复兴门'], '阜成门': ['车公庄'], '车公庄': ['4号线', '平安里'], '安河桥北': ['北宫门'], '北宫门': ['西苑'], '西苑': ['圆明园', '农大南路'], '圆明园': ['北京大学东门'], '北京大学东门': ['中关村'], '中关村': ['海淀黄庄'], '海淀黄庄': ['人民大学', '知春里'], '人民大学': ['魏公村'], '魏公村': ['国家图书馆'], '国家图书馆': ['动物园', '10号线'], '动物园': ['西直门'], '新街口': ['平安里'], '平安里': ['西四', '北海北'], '西四': ['灵境胡同'], '灵境胡同': ['西单'], '菜市口': ['陶然亭', '虎坊桥'], '陶然亭': ['北京南站'], '北京南站': ['马家堡', '蒲黄榆'], '马家堡': ['角门西'], '角门西': ['公益西桥', '草桥'], '公益西桥': ['5号线', '新宫'], '宋家庄': ['刘家窑', '石榴庄', '肖村'], '刘家窑': ['蒲黄榆'], '蒲黄榆': ['天坛东门', '十里河'], '天坛东门': ['磁器口'], '磁器口': ['崇文门', '广渠门内'], '灯市口': ['东四'], '东四': ['张自忠路', '朝阳门'], '张自忠路': ['北新桥'], '北新桥': ['雍和宫'], '和平里北街': ['和平西桥'], '和平西桥': ['惠新西街南口'], '惠新西街南口': ['惠新西街北口', '芍药居'], '惠新西街北口': ['大屯路东'], '大屯路东': ['北苑路北', '安立路'], '北苑路北': ['立水桥南'], '立水桥南': ['立水桥'], '立水桥': ['天通苑南', '北苑'], '天通苑南': ['天通苑'], '天通苑': ['天通苑北'], '天通苑北': ['6号线'], '金安桥': ['苹果园'], '杨庄': ['西黄村'], '西黄村': ['廖公庄'], '廖公庄': ['田村'], '田村': ['海淀五路居'], '海淀五路居': ['慈寿寺'], '慈寿寺': ['花园桥', '车道沟'], '花园桥': ['白石桥南'], '白石桥南': ['车公庄西', '国家图书馆'], '车公庄西': ['车公庄'], '北海北': ['南锣鼓巷'], '南锣鼓巷': ['东四', '中国美术馆'], '东大桥': ['呼家楼'], '呼家楼': ['金台路', '金台夕照'], '金台路': ['十里堡', '将台'], '十里堡': ['青年路'], '青年路': ['褡裢坡'], '褡裢坡': ['黄渠'], '黄渠': ['常营'], '常营': ['草房'], '草房': ['物资学院路'], '物资学院路': ['通州北关'], '通州北关': ['通运门'], '通运门': ['北运河西'], '北运河西': ['北运河东'], '北运河东': ['郝家府'], '郝家府': ['东夏园'], '东夏园': ['潞城'], '潞城': ['7号线'], '北京西站': ['湾子', '军事博物馆'], '湾子': ['达官营'], '达官营': ['广安门内'], '广安门内': ['菜市口'], '虎坊桥': ['珠市口'], '珠市口': ['桥湾', '天桥'], '桥湾': ['磁器口'], '广渠门内': ['广渠门外'], '广渠门外': ['双井'], '双井': ['九龙山', '劲松'], '九龙山': ['大郊亭', '大望路'], '大郊亭': ['百子湾'], '百子湾': ['化工'], '化工': ['南楼梓庄'], '南楼梓庄': ['欢乐谷景区'], '欢乐谷景区': ['垡头'], '垡头': ['双合'], '双合': ['焦化厂'], '焦化厂': ['8号线'], '朱辛庄': ['育知路', '生命科学园'], '育知路': ['平西府'], '平西府': ['回龙观东大街'], '回龙观东大街': ['霍营'], '霍营': ['育新', '立水桥'], '育新': ['西小口'], '西小口': ['永泰庄'], '永泰庄': ['林萃桥'], '林萃桥': ['森林公园南门'], '森林公园南门': ['奥林匹克公园'], '奥林匹克公园': ['奥体中心', '北沙滩'], '奥体中心': ['北土城'], '北土城': ['安华桥', '安贞门'], '安华桥': ['安德里北街'], '安德里北街': ['鼓楼大街'], '什刹海': ['南锣鼓巷'], '中国美术馆': ['珠市口'], '天桥': ['永定门外'], '永定门外': ['木樨园', '景泰'], '木樨园': ['海户屯'], '海户屯': ['大红门'], '大红门': ['大红门南', '角门东'], '大红门南': ['和义'], '和义': ['东高地'], '东高地': ['火箭万源'], '火箭万源': ['五福堂'], '五福堂': ['德茂'], '德茂': ['瀛海'], '瀛海': ['9号线'], '郭公庄': ['丰台科技园', '大葆台'], '丰台科技园': ['科怡路'], '科怡路': ['丰台南路'], '丰台南路': ['丰台东大街'], '丰台东大街': ['七里庄'], '七里庄': ['六里桥', '西局'], '六里桥': ['六里桥东', '莲花桥'], '六里桥东': ['北京西站'], '白堆子': ['白石桥南'], '巴沟': ['苏州街'], '苏州街': ['海淀黄庄'], '知春里': ['知春路'], '知春路': ['西土城', '五道口'], '西土城': ['牡丹园'], '牡丹园': ['健德门'], '健德门': ['北土城'], '安贞门': ['惠新西街南口'], '芍药居': ['太阳宫', '光熙门'], '太阳宫': ['三元桥'], '三元桥': ['亮马桥', '3号航站楼'], '亮马桥': ['农业展览馆'], '农业展览馆': ['团结湖'], '团结湖': ['呼家楼'], '金台夕照': ['国贸'], '劲松': ['潘家园'], '潘家园': ['十里河'], '十里河': ['分钟寺', '九龙山'], '分钟寺': ['成寿寺'], '成寿寺': ['宋家庄'], '石榴庄': ['大红门'], '角门东': ['角门西'], '草桥': ['纪家庙'], '纪家庙': ['首经贸'], '首经贸': ['丰台站'], '丰台站': ['泥洼'], '泥洼': ['西局'], '西局': ['六里桥', '善各庄'], '莲花桥': ['公主坟'], '西钓鱼台': ['慈寿寺'], '车道沟': ['长春桥'], '长春桥': ['火器营'], '火器营': ['13号线'], '大钟寺': ['知春路'], '五道口': ['上地'], '上地': ['西二旗'], '西二旗': ['龙泽', '亦庄线'], '龙泽': ['回龙观'], '回龙观': ['霍营'], '北苑': ['望京西'], '望京西': ['芍药居', '关庄'], '光熙门': ['柳芳'], '柳芳': ['东直门'], '张郭庄': ['园博园'], '园博园': ['大瓦窑'], '大瓦窑': ['郭庄子'], '郭庄子': ['大井'], '大井': ['七里庄'], '善各庄': ['陶然桥'], '陶然桥': ['永定门外'], '景泰': ['方庄'], '方庄': ['北工大西门'], '北工大西门': ['平乐园'], '平乐园': ['北京南站'], '朝阳公园': ['枣营'], '枣营': ['东风北桥'], '东风北桥': ['高家园'], '高家园': ['阜通'], '阜通': ['望京'], '望京': ['金台路', '望京西'], '将台': ['望京南'], '望京南': ['东湖渠'], '东湖渠': ['来广营'], '来广营': ['15号线'], '俸伯': ['顺义'], '顺义': ['石门'], '石门': ['南法信'], '南法信': ['后沙峪'], '后沙峪': ['花梨坎'], '花梨坎': ['国展'], '国展': ['孙河'], '孙河': ['马泉营'], '马泉营': ['崔各庄'], '崔各庄': ['望京东'], '望京东': ['望京'], '关庄': ['大屯路东'], '安立路': ['奥林匹克公园'], '北沙滩': ['六道口'], '六道口': ['清华东路西口'], '清华东路西口': ['16号线'], '农大南路': ['马连洼'], '马连洼': ['西北旺'], '西北旺': ['永丰南'], '永丰南': ['永丰'], '永丰': ['屯佃'], '屯佃': ['稻香湖路'], '稻香湖路': ['温阳路'], '温阳路': ['北安河'], '北安河': ['八通线'], '高碑店': ['传媒大学'], '传媒大学': ['双桥'], '双桥': ['管庄'], '管庄': ['八里桥'], '八里桥': ['通州北苑'], '通州北苑': ['果园'], '果园': ['九棵树'], '九棵树': ['梨园'], '梨园': ['临河里'], '临河里': ['土桥'], '土桥': ['昌平线'], '昌平西山口': ['十三陵景区'], '十三陵景区': ['昌平'], '昌平': ['昌平东关'], '昌平东关': ['北邵洼'], '北邵洼': ['南邵'], '南邵': ['沙河高教园'], '沙河高教园': ['沙河'], '沙河': ['巩华城'], '巩华城': ['朱辛庄'], '生命科学园': ['西二旗'], '肖村': ['小红门'], '小红门': ['旧宫'], '旧宫': ['亦庄桥'], '亦庄桥': ['亦庄文化园'], '亦庄文化园': ['万源街'], '万源街': ['荣京东街'], '荣京东街': ['荣昌东街'], '荣昌东街': ['同济南路'], '同济南路': ['经海路'], '经海路': ['次渠南'], '次渠南': ['次渠'], '次渠': ['亦庄火车站'], '亦庄火车站': ['房山线'], '大葆台': ['稻田'], '稻田': ['长阳'], '长阳': ['篱笆房'], '篱笆房': ['广阳城'], '广阳城': ['良乡大学城北'], '良乡大学城北': ['良乡大学城'], '良乡大学城': ['良乡大学城西'], '良乡大学城西': ['良乡南关'], '良乡南关': ['苏庄'], '苏庄': ['机场线'], '3号航站楼': ['2号航站楼'], '2号航站楼': ['大兴线'], '新宫': ['西红门'], '西红门': ['高米店北'], '高米店北': ['高米店南'], '高米店南': ['枣园'], '枣园': ['清源路'], '清源路': ['黄村西大街'], '黄村西大街': ['黄村火车站'], '黄村火车站': ['义和庄'], '义和庄': ['生物医药基地'], '生物医药基地': ['天宫院'], '天宫院': ['S1线'], '石厂': ['小园'], '小园': ['栗园庄'], '栗园庄': ['上岸'], '上岸': ['桥户营'], '桥户营': ['四道桥'], '四道桥': ['金安桥']}\n"
     ]
    }
   ],
   "source": [
    "import subway\n",
    "line = %run subway.py"
   ]
  },
  {
   "cell_type": "code",
   "execution_count": 40,
   "metadata": {},
   "outputs": [],
   "source": [
    "line = {'苹果园': ['古城', '杨庄'], '古城': ['八角游乐园'], '八角游乐园': ['八宝山'], '八宝山': ['玉泉路'], '玉泉路': ['五棵松'], '五棵松': ['万寿路'], '万寿路': ['公主坟'], '公主坟': ['军事博物馆', '西钓鱼台'], '军事博物馆': ['木樨地', '白堆子'], '木樨地': ['南礼士路'], '南礼士路': ['复兴门'], '复兴门': ['西单', '阜成门'], '西单': ['天安门西', '宣武门'], '天安门西': ['天安门东'], '天安门东': ['王府井'], '王府井': ['东单'], '东单': ['建国门', '灯市口'], '建国门': ['永安里', '北京站'], '永安里': ['国贸'], '国贸': ['大望路', '双井'], '大望路': ['四惠', '朝阳公园'], '四惠': ['四惠东', '四惠东'], '四惠东': ['2号线', '高碑店'], '西直门': ['积水潭', '新街口', '大钟寺'], '积水潭': ['鼓楼大街'], '鼓楼大街': ['安定门', '什刹海'], '安定门': ['雍和宫'], '雍和宫': ['东直门', '和平里北街'], '东直门': ['东四十条', '14号线', '三元桥'], '东四十条': ['朝阳门'], '朝阳门': ['建国门', '东大桥'], '北京站': ['崇文门'], '崇文门': ['前门', '东单'], '前门': ['和平门'], '和平门': ['宣武门'], '宣武门': ['长椿街', '菜市口'], '长椿街': ['复兴门'], '阜成门': ['车公庄'], '车公庄': ['4号线', '平安里'], '安河桥北': ['北宫门'], '北宫门': ['西苑'], '西苑': ['圆明园', '农大南路'], '圆明园': ['北京大学东门'], '北京大学东门': ['中关村'], '中关村': ['海淀黄庄'], '海淀黄庄': ['人民大学', '知春里'], '人民大学': ['魏公村'], '魏公村': ['国家图书馆'], '国家图书馆': ['动物园', '10号线'], '动物园': ['西直门'], '新街口': ['平安里'], '平安里': ['西四', '北海北'], '西四': ['灵境胡同'], '灵境胡同': ['西单'], '菜市口': ['陶然亭', '虎坊桥'], '陶然亭': ['北京南站'], '北京南站': ['马家堡', '蒲黄榆'], '马家堡': ['角门西'], '角门西': ['公益西桥', '草桥'], '公益西桥': ['5号线', '新宫'], '宋家庄': ['刘家窑', '石榴庄', '肖村'], '刘家窑': ['蒲黄榆'], '蒲黄榆': ['天坛东门', '十里河'], '天坛东门': ['磁器口'], '磁器口': ['崇文门', '广渠门内'], '灯市口': ['东四'], '东四': ['张自忠路', '朝阳门'], '张自忠路': ['北新桥'], '北新桥': ['雍和宫'], '和平里北街': ['和平西桥'], '和平西桥': ['惠新西街南口'], '惠新西街南口': ['惠新西街北口', '芍药居'], '惠新西街北口': ['大屯路东'], '大屯路东': ['北苑路北', '安立路'], '北苑路北': ['立水桥南'], '立水桥南': ['立水桥'], '立水桥': ['天通苑南', '北苑'], '天通苑南': ['天通苑'], '天通苑': ['天通苑北'], '天通苑北': ['6号线'], '金安桥': ['苹果园'], '杨庄': ['西黄村'], '西黄村': ['廖公庄'], '廖公庄': ['田村'], '田村': ['海淀五路居'], '海淀五路居': ['慈寿寺'], '慈寿寺': ['花园桥', '车道沟'], '花园桥': ['白石桥南'], '白石桥南': ['车公庄西', '国家图书馆'], '车公庄西': ['车公庄'], '北海北': ['南锣鼓巷'], '南锣鼓巷': ['东四', '中国美术馆'], '东大桥': ['呼家楼'], '呼家楼': ['金台路', '金台夕照'], '金台路': ['十里堡', '将台'], '十里堡': ['青年路'], '青年路': ['褡裢坡'], '褡裢坡': ['黄渠'], '黄渠': ['常营'], '常营': ['草房'], '草房': ['物资学院路'], '物资学院路': ['通州北关'], '通州北关': ['通运门'], '通运门': ['北运河西'], '北运河西': ['北运河东'], '北运河东': ['郝家府'], '郝家府': ['东夏园'], '东夏园': ['潞城'], '潞城': ['7号线'], '北京西站': ['湾子', '军事博物馆'], '湾子': ['达官营'], '达官营': ['广安门内'], '广安门内': ['菜市口'], '虎坊桥': ['珠市口'], '珠市口': ['桥湾', '天桥'], '桥湾': ['磁器口'], '广渠门内': ['广渠门外'], '广渠门外': ['双井'], '双井': ['九龙山', '劲松'], '九龙山': ['大郊亭', '大望路'], '大郊亭': ['百子湾'], '百子湾': ['化工'], '化工': ['南楼梓庄'], '南楼梓庄': ['欢乐谷景区'], '欢乐谷景区': ['垡头'], '垡头': ['双合'], '双合': ['焦化厂'], '焦化厂': ['8号线'], '朱辛庄': ['育知路', '生命科学园'], '育知路': ['平西府'], '平西府': ['回龙观东大街'], '回龙观东大街': ['霍营'], '霍营': ['育新', '立水桥'], '育新': ['西小口'], '西小口': ['永泰庄'], '永泰庄': ['林萃桥'], '林萃桥': ['森林公园南门'], '森林公园南门': ['奥林匹克公园'], '奥林匹克公园': ['奥体中心', '北沙滩'], '奥体中心': ['北土城'], '北土城': ['安华桥', '安贞门'], '安华桥': ['安德里北街'], '安德里北街': ['鼓楼大街'], '什刹海': ['南锣鼓巷'], '中国美术馆': ['珠市口'], '天桥': ['永定门外'], '永定门外': ['木樨园', '景泰'], '木樨园': ['海户屯'], '海户屯': ['大红门'], '大红门': ['大红门南', '角门东'], '大红门南': ['和义'], '和义': ['东高地'], '东高地': ['火箭万源'], '火箭万源': ['五福堂'], '五福堂': ['德茂'], '德茂': ['瀛海'], '瀛海': ['9号线'], '郭公庄': ['丰台科技园', '大葆台'], '丰台科技园': ['科怡路'], '科怡路': ['丰台南路'], '丰台南路': ['丰台东大街'], '丰台东大街': ['七里庄'], '七里庄': ['六里桥', '西局'], '六里桥': ['六里桥东', '莲花桥'], '六里桥东': ['北京西站'], '白堆子': ['白石桥南'], '巴沟': ['苏州街'], '苏州街': ['海淀黄庄'], '知春里': ['知春路'], '知春路': ['西土城', '五道口'], '西土城': ['牡丹园'], '牡丹园': ['健德门'], '健德门': ['北土城'], '安贞门': ['惠新西街南口'], '芍药居': ['太阳宫', '光熙门'], '太阳宫': ['三元桥'], '三元桥': ['亮马桥', '3号航站楼'], '亮马桥': ['农业展览馆'], '农业展览馆': ['团结湖'], '团结湖': ['呼家楼'], '金台夕照': ['国贸'], '劲松': ['潘家园'], '潘家园': ['十里河'], '十里河': ['分钟寺', '九龙山'], '分钟寺': ['成寿寺'], '成寿寺': ['宋家庄'], '石榴庄': ['大红门'], '角门东': ['角门西'], '草桥': ['纪家庙'], '纪家庙': ['首经贸'], '首经贸': ['丰台站'], '丰台站': ['泥洼'], '泥洼': ['西局'], '西局': ['六里桥', '善各庄'], '莲花桥': ['公主坟'], '西钓鱼台': ['慈寿寺'], '车道沟': ['长春桥'], '长春桥': ['火器营'], '火器营': ['13号线'], '大钟寺': ['知春路'], '五道口': ['上地'], '上地': ['西二旗'], '西二旗': ['龙泽', '亦庄线'], '龙泽': ['回龙观'], '回龙观': ['霍营'], '北苑': ['望京西'], '望京西': ['芍药居', '关庄'], '光熙门': ['柳芳'], '柳芳': ['东直门'], '张郭庄': ['园博园'], '园博园': ['大瓦窑'], '大瓦窑': ['郭庄子'], '郭庄子': ['大井'], '大井': ['七里庄'], '善各庄': ['陶然桥'], '陶然桥': ['永定门外'], '景泰': ['方庄'], '方庄': ['北工大西门'], '北工大西门': ['平乐园'], '平乐园': ['北京南站'], '朝阳公园': ['枣营'], '枣营': ['东风北桥'], '东风北桥': ['高家园'], '高家园': ['阜通'], '阜通': ['望京'], '望京': ['金台路', '望京西'], '将台': ['望京南'], '望京南': ['东湖渠'], '东湖渠': ['来广营'], '来广营': ['15号线'], '俸伯': ['顺义'], '顺义': ['石门'], '石门': ['南法信'], '南法信': ['后沙峪'], '后沙峪': ['花梨坎'], '花梨坎': ['国展'], '国展': ['孙河'], '孙河': ['马泉营'], '马泉营': ['崔各庄'], '崔各庄': ['望京东'], '望京东': ['望京'], '关庄': ['大屯路东'], '安立路': ['奥林匹克公园'], '北沙滩': ['六道口'], '六道口': ['清华东路西口'], '清华东路西口': ['16号线'], '农大南路': ['马连洼'], '马连洼': ['西北旺'], '西北旺': ['永丰南'], '永丰南': ['永丰'], '永丰': ['屯佃'], '屯佃': ['稻香湖路'], '稻香湖路': ['温阳路'], '温阳路': ['北安河'], '北安河': ['八通线'], '高碑店': ['传媒大学'], '传媒大学': ['双桥'], '双桥': ['管庄'], '管庄': ['八里桥'], '八里桥': ['通州北苑'], '通州北苑': ['果园'], '果园': ['九棵树'], '九棵树': ['梨园'], '梨园': ['临河里'], '临河里': ['土桥'], '土桥': ['昌平线'], '昌平西山口': ['十三陵景区'], '十三陵景区': ['昌平'], '昌平': ['昌平东关'], '昌平东关': ['北邵洼'], '北邵洼': ['南邵'], '南邵': ['沙河高教园'], '沙河高教园': ['沙河'], '沙河': ['巩华城'], '巩华城': ['朱辛庄'], '生命科学园': ['西二旗'], '肖村': ['小红门'], '小红门': ['旧宫'], '旧宫': ['亦庄桥'], '亦庄桥': ['亦庄文化园'], '亦庄文化园': ['万源街'], '万源街': ['荣京东街'], '荣京东街': ['荣昌东街'], '荣昌东街': ['同济南路'], '同济南路': ['经海路'], '经海路': ['次渠南'], '次渠南': ['次渠'], '次渠': ['亦庄火车站'], '亦庄火车站': ['房山线'], '大葆台': ['稻田'], '稻田': ['长阳'], '长阳': ['篱笆房'], '篱笆房': ['广阳城'], '广阳城': ['良乡大学城北'], '良乡大学城北': ['良乡大学城'], '良乡大学城': ['良乡大学城西'], '良乡大学城西': ['良乡南关'], '良乡南关': ['苏庄'], '苏庄': ['机场线'], '3号航站楼': ['2号航站楼'], '2号航站楼': ['大兴线'], '新宫': ['西红门'], '西红门': ['高米店北'], '高米店北': ['高米店南'], '高米店南': ['枣园'], '枣园': ['清源路'], '清源路': ['黄村西大街'], '黄村西大街': ['黄村火车站'], '黄村火车站': ['义和庄'], '义和庄': ['生物医药基地'], '生物医药基地': ['天宫院'], '天宫院': ['S1线'], '石厂': ['小园'], '小园': ['栗园庄'], '栗园庄': ['上岸'], '上岸': ['桥户营'], '桥户营': ['四道桥'], '四道桥': ['金安桥']}"
   ]
  },
  {
   "cell_type": "code",
   "execution_count": 62,
   "metadata": {},
   "outputs": [],
   "source": [
    "def search(start, destination, connection_grpah):\n",
    "    pathes = [[start]]\n",
    "    \n",
    "    visitied = set()\n",
    "    \n",
    "    while pathes: # if we find existing pathes\n",
    "        path = pathes.pop(0)\n",
    "        froninter = path[-1]\n",
    "        \n",
    "        if froninter in visitied: continue\n",
    "            \n",
    "        successors = connection_grpah[froninter]\n",
    "        \n",
    "        for city in successors:\n",
    "            if city in path: continue  # eliminate loop\n",
    "                \n",
    "            new_path = path + [city]\n",
    "            \n",
    "            pathes.append(new_path)\n",
    "            \n",
    "            if city == destination: return '-->'.join(new_path)\n",
    "        \n",
    "        visitied.add(froninter)\n",
    "        \n",
    "        #pathes = sort_candidate(pathes) # 我们可以加一个排序函数 对我们的搜索策略进行控制"
   ]
  },
  {
   "cell_type": "code",
   "execution_count": 63,
   "metadata": {},
   "outputs": [],
   "source": [
    "def transfer_stations_first(pathes): \n",
    "    return sorted(pathes, key=len)"
   ]
  },
  {
   "cell_type": "code",
   "execution_count": 64,
   "metadata": {},
   "outputs": [],
   "source": [
    "def transfer_as_much_possible(pathes):\n",
    "    return sorted(pathes, key=len, reverse=True)"
   ]
  },
  {
   "cell_type": "code",
   "execution_count": 65,
   "metadata": {},
   "outputs": [],
   "source": [
    "def shortest_path_first(pathes):\n",
    "    \n",
    "    if len(pathes) <= 1: return pathes\n",
    "    \n",
    "    def get_path_distnace(path):\n",
    "        distance = 0\n",
    "        for station in path[:-1]:\n",
    "            distance += get_geo_distance(station, path[-1])\n",
    "            \n",
    "        return distance\n",
    "\n",
    "    return sorted(pathes, key=get_path_distnace)"
   ]
  },
  {
   "cell_type": "code",
   "execution_count": 67,
   "metadata": {},
   "outputs": [
    {
     "data": {
      "text/plain": [
       "'科怡路-->丰台南路-->丰台东大街-->七里庄-->六里桥-->莲花桥-->公主坟-->西钓鱼台'"
      ]
     },
     "execution_count": 67,
     "metadata": {},
     "output_type": "execute_result"
    }
   ],
   "source": [
    "search('科怡路', '西钓鱼台', line)"
   ]
  },
  {
   "cell_type": "markdown",
   "metadata": {},
   "source": [
    "## （Optional）Create different policies for transfer system.\n"
   ]
  },
  {
   "cell_type": "markdown",
   "metadata": {},
   "source": [
    "以下部门为可选部分，请酌情完成。 并不要求全部同学完成。"
   ]
  },
  {
   "cell_type": "markdown",
   "metadata": {},
   "source": [
    "As much as you can to use the already implemented search agent. You just need to define the **is_goal()**, **get_successor()**, **strategy()** three functions. \n",
    "\n",
    "> a.\tDefine different policies for transfer system. \n",
    "\n",
    "> b.\tSuch as Shortest Path Priority（路程最短优先）, Minimum Transfer Priority(最少换乘优先), Comprehensive Priority(综合优先)\n",
    "\n",
    "> c.\tImplement Continuous transfer. Based on the Agent you implemented, please add this feature: Besides the @param start and @param destination two stations, add some more stations, we called @param by_way, it means, our path should from the start and end, but also include the  @param by_way stations. \n",
    "\n",
    "e.g \n",
    "```\n",
    "1. Input:  start=A,  destination=B, by_way=[C] \n",
    "    Output: [A, … .., C, …. B]\n",
    "2. Input: start=A, destination=B, by_way=[C, D, E]\n",
    "    Output: [A … C … E … D … B]  \n",
    "    # based on your policy, the E station could be reached firstly. \n",
    "![image.png](attachment:image.png)\n",
    "```"
   ]
  },
  {
   "cell_type": "markdown",
   "metadata": {},
   "source": [
    "##### 5.\tTest your result with commercial applications. \n",
    "\n",
    "将你的结果和高德地图或者百度地图进行比较，如果有不同，请分析原因\n"
   ]
  },
  {
   "cell_type": "markdown",
   "metadata": {},
   "source": [
    "恭喜，完成本次课程，你对常用的人工智能方法以及有一定的了解了。基于规则的，基于概率模型的，基于搜索的，基于机器学习的。 可以说，我们现在通常见到的方法都能够归属到这几类方法中。 这就是**人工智能**，并没有很难是吧？ 继续加油！"
   ]
  },
  {
   "cell_type": "markdown",
   "metadata": {},
   "source": [
    "![](https://timgsa.baidu.com/timg?image&quality=80&size=b9999_10000&sec=1562415163815&di=4b29a2a863a8285212033760f288ed7a&imgtype=0&src=http%3A%2F%2F5b0988e595225.cdn.sohucs.com%2Fimages%2F20180710%2F8704194a1d7f46a383ddc29d40c9bca5.jpeg)"
   ]
  }
 ],
 "metadata": {
  "kernelspec": {
   "display_name": "Python 3",
   "language": "python",
   "name": "python3"
  },
  "language_info": {
   "codemirror_mode": {
    "name": "ipython",
    "version": 3
   },
   "file_extension": ".py",
   "mimetype": "text/x-python",
   "name": "python",
   "nbconvert_exporter": "python",
   "pygments_lexer": "ipython3",
   "version": "3.7.3"
  }
 },
 "nbformat": 4,
 "nbformat_minor": 2
}
